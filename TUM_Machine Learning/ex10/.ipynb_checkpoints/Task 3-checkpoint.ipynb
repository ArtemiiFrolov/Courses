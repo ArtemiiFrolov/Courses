{
 "cells": [
  {
   "cell_type": "markdown",
   "metadata": {},
   "source": [
    "To find u of user-to-concept matrix of Leslie we need to do L\\*V\\*S^-1, where L is Leslie row. It can be shown by every row of A\\* (which includes L) can be presented by u\\*S\\*V."
   ]
  },
  {
   "cell_type": "code",
   "execution_count": 1,
   "metadata": {
    "collapsed": true
   },
   "outputs": [],
   "source": [
    "import numpy as np"
   ]
  },
  {
   "cell_type": "code",
   "execution_count": 12,
   "metadata": {},
   "outputs": [
    {
     "name": "stdout",
     "output_type": "stream",
     "text": [
      "[[0.14032258 0.29894737]]\n"
     ]
    }
   ],
   "source": [
    "L = np.array([ [0, 3, 0, 0, 4]])\n",
    "S = np.array([ [12.4, 0],[0, 9.5]])\n",
    "V = np.array([[0.58, 0.58, 0.58, 0, 0],[0, 0, 0, 0.71, 0.71]])\n",
    "u = L.dot(V.T).dot(np.linalg.inv(S))\n",
    "print(u)"
   ]
  },
  {
   "cell_type": "code",
   "execution_count": null,
   "metadata": {
    "collapsed": true
   },
   "outputs": [],
   "source": []
  }
 ],
 "metadata": {
  "kernelspec": {
   "display_name": "Python 3",
   "language": "python",
   "name": "python3"
  },
  "language_info": {
   "codemirror_mode": {
    "name": "ipython",
    "version": 3
   },
   "file_extension": ".py",
   "mimetype": "text/x-python",
   "name": "python",
   "nbconvert_exporter": "python",
   "pygments_lexer": "ipython3",
   "version": "3.6.1"
  }
 },
 "nbformat": 4,
 "nbformat_minor": 2
}
