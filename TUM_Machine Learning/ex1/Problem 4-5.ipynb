{
 "cells": [
  {
   "cell_type": "code",
   "execution_count": 1,
   "metadata": {
    "collapsed": true
   },
   "outputs": [],
   "source": [
    "import numpy as np\n",
    "from sklearn import datasets, model_selection\n",
    "import matplotlib.pyplot as plt\n",
    "from mpl_toolkits.mplot3d import Axes3D\n",
    "%matplotlib inline"
   ]
  },
  {
   "cell_type": "markdown",
   "metadata": {},
   "source": [
    "Loading dataset"
   ]
  },
  {
   "cell_type": "code",
   "execution_count": 2,
   "metadata": {
    "collapsed": true
   },
   "outputs": [],
   "source": [
    "def load_dataset():       \n",
    "    f = open(\"01_homework_dataset.csv\")\n",
    "    f.readline()  # skip the header\n",
    "    dataset = np.loadtxt(f, delimiter=\",\")\n",
    "    #dataset = pd.read_csv('01_homework_dataset.csv')\n",
    "    X, y = dataset[:,:3], dataset[:,3]    \n",
    "    return X, y"
   ]
  },
  {
   "cell_type": "markdown",
   "metadata": {},
   "source": [
    "All needed functions"
   ]
  },
  {
   "cell_type": "code",
   "execution_count": 3,
   "metadata": {
    "collapsed": true
   },
   "outputs": [],
   "source": [
    "def euclidean_distance(x1, x2):\n",
    "    return np.linalg.norm(np.subtract(x1,x2))"
   ]
  },
  {
   "cell_type": "code",
   "execution_count": 33,
   "metadata": {
    "collapsed": true
   },
   "outputs": [],
   "source": [
    "def get_neighbors_labels(X, y, x_new, k):   \n",
    "    euc_l = np.empty((0, 2), int)\n",
    "    # getting an array [euclidean distance, label]\n",
    "    for i in range(len(X)):\n",
    "        euc_l = np.append(euc_l, [[euclidean_distance(X[i], x_new), y[i]]], axis=0)\n",
    "    # sorting an array through the euclidean distance   \n",
    "    euc_l = euc_l[euc_l[:, 0].argsort()]  \n",
    "    return euc_l[0:k, :]"
   ]
  },
  {
   "cell_type": "code",
   "execution_count": 35,
   "metadata": {
    "collapsed": true
   },
   "outputs": [],
   "source": [
    "def get_response(neighbors, num_classes=3):    \n",
    "    m_dict = {'max': [0, 0]}\n",
    "    \"\"\" \n",
    "    generating a dictionary where \n",
    "    m_dict['max'] = [label, number of values]\n",
    "    m_dict[label] = number of values\n",
    "    \"\"\"\n",
    "    for i in neighbors[:,1]:        \n",
    "        if i in m_dict:\n",
    "            m_dict[i] += 1\n",
    "            if m_dict[i] > m_dict['max'][1]:\n",
    "                m_dict['max'][0] = i\n",
    "                m_dict['max'][1] = m_dict[i]\n",
    "        else:\n",
    "            m_dict[i] = 1\n",
    "            if m_dict['max'][1] == 0:\n",
    "                m_dict['max'][0] = i\n",
    "                m_dict['max'][1] = 1 \n",
    "    # return of the label with maximum count\n",
    "    return m_dict['max'][0]"
   ]
  },
  {
   "cell_type": "code",
   "execution_count": 73,
   "metadata": {
    "collapsed": true
   },
   "outputs": [],
   "source": [
    "def get_response_regression(neighbors, weight_flag):\n",
    "    if not weight_flag:        \n",
    "        return np.sum(neighbors[:,1])/len(neighbors[:,1])\n",
    "    else:\n",
    "        sum_n = 0\n",
    "        z = 0\n",
    "        for i in neighbors:\n",
    "            z += 1/i[0]\n",
    "            sum_n += i[1]/i[0]            \n",
    "        return sum_n/z"
   ]
  },
  {
   "cell_type": "markdown",
   "metadata": {},
   "source": [
    "We don't need test and train datasets here, so no need to split"
   ]
  },
  {
   "cell_type": "code",
   "execution_count": 74,
   "metadata": {
    "collapsed": true
   },
   "outputs": [],
   "source": [
    "X, y = load_dataset()"
   ]
  },
  {
   "cell_type": "markdown",
   "metadata": {},
   "source": [
    "Answer for problem 4"
   ]
  },
  {
   "cell_type": "code",
   "execution_count": 75,
   "metadata": {},
   "outputs": [
    {
     "name": "stdout",
     "output_type": "stream",
     "text": [
      "x1 = 0.0\n",
      "x2 = 2.0\n"
     ]
    }
   ],
   "source": [
    "def get_answer_4(X, y, x_new, k):\n",
    "    # finding the closest neighbour\n",
    "    return get_response(get_neighbors_labels(X, y, x_new, k))\n",
    "k = 3\n",
    "x1 = get_answer_4(X, y, [4.1, -0.1, 2.2], k)\n",
    "x2 = get_answer_4(X, y, [6.1, 0.4, 1.3], k)\n",
    "print('x1 = {0}'.format(x1))\n",
    "print('x2 = {0}'.format(x2))"
   ]
  },
  {
   "cell_type": "markdown",
   "metadata": {
    "collapsed": true
   },
   "source": [
    "Answer for problem 5 (unweighted)"
   ]
  },
  {
   "cell_type": "code",
   "execution_count": 76,
   "metadata": {},
   "outputs": [
    {
     "name": "stdout",
     "output_type": "stream",
     "text": [
      "x1 = 1.0\n",
      "x2 = 1.3333333333333333\n"
     ]
    }
   ],
   "source": [
    "def get_answer_5(X, y, x_new, k): \n",
    "    return get_response_regression(get_neighbors_labels(X, y, x_new, k),0)\n",
    "k = 3\n",
    "x1= get_answer_5(X, y, [4.1, -0.1, 2.2], k)\n",
    "x2= get_answer_5(X, y, [6.1, 0.4, 1.3], k)\n",
    "print('x1 = {0}'.format(x1))\n",
    "print('x2 = {0}'.format(x2))"
   ]
  },
  {
   "cell_type": "markdown",
   "metadata": {},
   "source": [
    "Answer for problem 5 (weighted)"
   ]
  },
  {
   "cell_type": "code",
   "execution_count": 77,
   "metadata": {},
   "outputs": [
    {
     "name": "stdout",
     "output_type": "stream",
     "text": [
      "x1 = 0.5610164259744004\n",
      "x2 = 1.3959245132894498\n"
     ]
    }
   ],
   "source": [
    "def get_answer_5(X, y, x_new, k): \n",
    "    return get_response_regression(get_neighbors_labels(X, y, x_new, k),1)\n",
    "k = 3\n",
    "x1= get_answer_5(X, y, [4.1, -0.1, 2.2], k)\n",
    "x2= get_answer_5(X, y, [6.1, 0.4, 1.3], k)\n",
    "print('x1 = {0}'.format(x1))\n",
    "print('x2 = {0}'.format(x2))"
   ]
  },
  {
   "cell_type": "markdown",
   "metadata": {},
   "source": [
    "Analysis for problem 6"
   ]
  },
  {
   "cell_type": "code",
   "execution_count": 78,
   "metadata": {},
   "outputs": [
    {
     "data": {
      "text/plain": [
       "<matplotlib.collections.PathCollection at 0x27d88f007f0>"
      ]
     },
     "execution_count": 78,
     "metadata": {},
     "output_type": "execute_result"
    },
    {
     "data": {
      "image/png": "[encoded data removed]",
      "text/plain": [
       "<matplotlib.figure.Figure at 0x27d88a1acc0>"
      ]
     },
     "metadata": {},
     "output_type": "display_data"
    }
   ],
   "source": [
    "f, axes = plt.subplots(3,figsize=(5, 5))\n",
    "axes[0].scatter(X[:,0],X[:,1], c=y, cmap=plt.cm.cool)\n",
    "axes[1].scatter(X[:,1],X[:,2], c=y, cmap=plt.cm.cool)\n",
    "axes[2].scatter(X[:,0],X[:,2], c=y, cmap=plt.cm.cool)"
   ]
  },
  {
   "cell_type": "code",
   "execution_count": 17,
   "metadata": {},
   "outputs": [
    {
     "data": {
      "image/png": "[encoded data removed]",
      "text/plain": [
       "<matplotlib.figure.Figure at 0x1a020ec5ef0>"
      ]
     },
     "metadata": {},
     "output_type": "display_data"
    }
   ],
   "source": [
    "fig = plt.figure()\n",
    "ax = fig.add_subplot(111, projection='3d')\n",
    "for i in range(len(X)):\n",
    "    xs = X[i][0]\n",
    "    ys = X[i][1]\n",
    "    zs = X[i][2]\n",
    "    if y[i] == 0:\n",
    "        c = 'r'\n",
    "    elif y[i] == 1:\n",
    "        c = 'g'\n",
    "    else:\n",
    "        c = 'b'\n",
    "    ax.scatter(xs, ys, zs, c=c, marker='o')\n",
    "ax.scatter(4.1, -0.1, 2.2, c='r',marker='^')\n",
    "ax.scatter(6.1, 0.4, 1.3, c='b',marker='^')\n",
    "ax.set_xlabel('X Label')\n",
    "ax.set_ylabel('Y Label')\n",
    "ax.set_zlabel('Z Label')\n",
    "plt.show()\n"
   ]
  },
  {
   "cell_type": "code",
   "execution_count": null,
   "metadata": {
    "collapsed": true
   },
   "outputs": [],
   "source": []
  }
 ],
 "metadata": {
  "kernelspec": {
   "display_name": "Python 3",
   "language": "python",
   "name": "python3"
  },
  "language_info": {
   "codemirror_mode": {
    "name": "ipython",
    "version": 3
   },
   "file_extension": ".py",
   "mimetype": "text/x-python",
   "name": "python",
   "nbconvert_exporter": "python",
   "pygments_lexer": "ipython3",
   "version": "3.6.1"
  }
 },
 "nbformat": 4,
 "nbformat_minor": 2
}
