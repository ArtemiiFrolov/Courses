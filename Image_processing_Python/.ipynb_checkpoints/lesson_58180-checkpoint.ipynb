{
 "cells": [
  {
   "cell_type": "markdown",
   "metadata": {},
   "source": [
    "Прочитайте изображение из файла img.png и выведите количество столбцов этого изображения на стандартный вывод.\n",
    "\n",
    "В примере входа указана ссылка на файл. Это сделано для вашего удобства. Вы можете скачать этот файл, сохранить как img.png и протестировать решение на своем компьютере."
   ]
  },
  {
   "cell_type": "code",
   "execution_count": 25,
   "metadata": {},
   "outputs": [
    {
     "name": "stdout",
     "output_type": "stream",
     "text": [
      "826\n"
     ]
    }
   ],
   "source": [
    "%matplotlib inline\n",
    "import numpy as np\n",
    "from skimage.io import imread, imshow, imsave\n",
    "img = imread('img.png')\n",
    "print(img.shape[1])"
   ]
  },
  {
   "cell_type": "markdown",
   "metadata": {},
   "source": [
    "Прочитайте изображение из файла img.png. У этого изображения нечетное количество строк и столбцов. Поменяйте цвет центрального пикселя этого изображения на зеленый цвет rgb (102, 204, 102) и сохраните изображение в файл out_img.png.\n",
    "\n",
    "В примере входа и выхода указаны ссылки на файлы. Это сделано для вашего удобства. Вы можете скачать эти файлы, сохранить вход как img.png и протестировать решение на своем компьютере, сравнив с выходным изображением.\n",
    "\n",
    "Для сравнения двух изображений можно воспользоваться функцией numpy.array_equal."
   ]
  },
  {
   "cell_type": "code",
   "execution_count": 10,
   "metadata": {},
   "outputs": [],
   "source": [
    "img = imread('img2.png')\n",
    "img[img.shape[0]//2, img.shape[1]//2] = [102, 204, 102]\n",
    "imsave('out_img.png', img)"
   ]
  },
  {
   "cell_type": "markdown",
   "metadata": {},
   "source": [
    "Загрузите изображение из файла img.png. Оно имеет нечетное количество строк и столбцов. В центре этого изображения находится прямоугольник размером 7 строк и 15 столбцов. Поменяйте его цвет на розовый rgb(255, 192, 203) и сохраните в файл out_img.png.\n",
    "\n",
    "В примере входа и выхода указаны ссылки на файлы. Это сделано для вашего удобства. Вы можете скачать эти файлы, сохранить вход как img.png и протестировать решение на своем компьютере, сравнив с выходным изображением."
   ]
  },
  {
   "cell_type": "code",
   "execution_count": 14,
   "metadata": {
    "collapsed": true
   },
   "outputs": [],
   "source": [
    "img = imread('tiger-gray.png')\n",
    "ch = img.shape[0]//2\n",
    "cw = img.shape[1]//2\n",
    "img[ch-3:ch+4, cw-7:cw+8] = [255, 192, 203]\n",
    "imsave('out_img.png', img)"
   ]
  },
  {
   "cell_type": "markdown",
   "metadata": {},
   "source": [
    "Загрузите изображение из файла img.png. Изображение состоит из рамки сплошного цвета и внутренней части изображения. Цвет рамки можно узнать, посмотрев на левый верхний пиксель. Рамка может иметь разную ширину со всех четырех сторон. Определите размеры рамки и выведите эти размеры через пробел. Размеры рамки выводите в следующем порядке: левый, верхний, правый, нижний.\n",
    "\n",
    "В примере входа указана ссылка на изображение. Это сделано для вашего удобства. Вы можете скачать этот файл, сохранить вход как img.png и протестировать решение на своем компьютере."
   ]
  },
  {
   "cell_type": "code",
   "execution_count": 34,
   "metadata": {},
   "outputs": [
    {
     "name": "stdout",
     "output_type": "stream",
     "text": [
      "1 39 25 7 "
     ]
    }
   ],
   "source": [
    "img = imread('img.png')\n",
    "color = img[0,0]\n",
    "a_c = [0,0,0,0]\n",
    "flag = 0\n",
    "for i in range(img.shape[0]):\n",
    "    for j in range(img.shape[1]):\n",
    "        if not np.array_equal(img[i,j], color) and flag == 0:        \n",
    "            a_c[0], a_c[1] = j,i\n",
    "            flag = 1\n",
    "\n",
    "for i in range(a_c[1],img.shape[0]):\n",
    "    if np.array_equal(img[i,a_c[0]], color):        \n",
    "            a_c[3] = img.shape[0]-i\n",
    "            break\n",
    "for j in range(a_c[0],img.shape[1]):\n",
    "    if np.array_equal(img[a_c[1],j], color):        \n",
    "            a_c[2] = img.shape[1]-j\n",
    "            break\n",
    "for i in a_c:\n",
    "    print(i,end=' ')"
   ]
  },
  {
   "cell_type": "code",
   "execution_count": null,
   "metadata": {
    "collapsed": true
   },
   "outputs": [],
   "source": []
  }
 ],
 "metadata": {
  "kernelspec": {
   "display_name": "Python 3",
   "language": "python",
   "name": "python3"
  },
  "language_info": {
   "codemirror_mode": {
    "name": "ipython",
    "version": 3
   },
   "file_extension": ".py",
   "mimetype": "text/x-python",
   "name": "python",
   "nbconvert_exporter": "python",
   "pygments_lexer": "ipython3",
   "version": "3.6.1"
  }
 },
 "nbformat": 4,
 "nbformat_minor": 2
}
