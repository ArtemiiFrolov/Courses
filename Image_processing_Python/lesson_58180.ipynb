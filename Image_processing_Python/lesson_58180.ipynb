{
 "cells": [
  {
   "cell_type": "markdown",
   "metadata": {},
   "source": [
    "Прочитайте изображение из файла img.png и выведите количество столбцов этого изображения на стандартный вывод.\n",
    "\n",
    "В примере входа указана ссылка на файл. Это сделано для вашего удобства. Вы можете скачать этот файл, сохранить как img.png и протестировать решение на своем компьютере."
   ]
  },
  {
   "cell_type": "code",
   "execution_count": 5,
   "metadata": {},
   "outputs": [
    {
     "name": "stdout",
     "output_type": "stream",
     "text": [
      "419\n"
     ]
    }
   ],
   "source": [
    "%matplotlib inline\n",
    "from skimage.io import imread, imshow, imsave\n",
    "img = imread('img.png')\n",
    "print(img.shape[1])"
   ]
  },
  {
   "cell_type": "markdown",
   "metadata": {},
   "source": [
    "Прочитайте изображение из файла img.png. У этого изображения нечетное количество строк и столбцов. Поменяйте цвет центрального пикселя этого изображения на зеленый цвет rgb (102, 204, 102) и сохраните изображение в файл out_img.png.\n",
    "\n",
    "В примере входа и выхода указаны ссылки на файлы. Это сделано для вашего удобства. Вы можете скачать эти файлы, сохранить вход как img.png и протестировать решение на своем компьютере, сравнив с выходным изображением.\n",
    "\n",
    "Для сравнения двух изображений можно воспользоваться функцией numpy.array_equal."
   ]
  },
  {
   "cell_type": "code",
   "execution_count": 10,
   "metadata": {},
   "outputs": [],
   "source": [
    "%matplotlib inline\n",
    "from skimage.io import imread, imshow, imsave\n",
    "img = imread('img2.png')\n",
    "img[img.shape[0]//2, img.shape[1]//2] = [102, 204, 102]\n",
    "imsave('out_img.png', img)"
   ]
  },
  {
   "cell_type": "code",
   "execution_count": null,
   "metadata": {
    "collapsed": true
   },
   "outputs": [],
   "source": []
  }
 ],
 "metadata": {
  "kernelspec": {
   "display_name": "Python 3",
   "language": "python",
   "name": "python3"
  },
  "language_info": {
   "codemirror_mode": {
    "name": "ipython",
    "version": 3
   },
   "file_extension": ".py",
   "mimetype": "text/x-python",
   "name": "python",
   "nbconvert_exporter": "python",
   "pygments_lexer": "ipython3",
   "version": "3.6.1"
  }
 },
 "nbformat": 4,
 "nbformat_minor": 2
}
