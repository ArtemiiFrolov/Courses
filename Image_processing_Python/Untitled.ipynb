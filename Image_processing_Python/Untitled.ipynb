{
 "cells": [
  {
   "cell_type": "markdown",
   "metadata": {},
   "source": [
    "Напишите функцию align, которая сопоставляет изображения с фотографий Прокудина-Горского и возвращает координаты точек на синем и красном каналах, как это описано в видео, слайдах и описании задания.\n",
    "Прототип функции:\n",
    "def align(img, (row_g, col_g)):\n",
    "    #считаем сдвиги каналов\n",
    "\n",
    "    #сдвигаем точку на зеленом канале\n",
    "    #на другие каналы\n",
    "    return (row_b, col_b), (row_r, col_r)\n",
    "\n",
    "Для вашего удобства приводится один тест. Вход: ссылка на изображение, координаты точки на зеленом канале. Выход: правильный ответ — координаты точек на синем и красном каналах.\n",
    "\n",
    "Программа не должна ничего читать и писать на стандартный ввод и вывод, необходимо написать только функцию align."
   ]
  },
  {
   "cell_type": "code",
   "execution_count": null,
   "metadata": {
    "collapsed": true
   },
   "outputs": [],
   "source": []
  }
 ],
 "metadata": {
  "kernelspec": {
   "display_name": "Python 3",
   "language": "python",
   "name": "python3"
  },
  "language_info": {
   "codemirror_mode": {
    "name": "ipython",
    "version": 3
   },
   "file_extension": ".py",
   "mimetype": "text/x-python",
   "name": "python",
   "nbconvert_exporter": "python",
   "pygments_lexer": "ipython3",
   "version": "3.6.1"
  }
 },
 "nbformat": 4,
 "nbformat_minor": 2
}
